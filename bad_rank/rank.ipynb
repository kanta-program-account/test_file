{
 "cells": [
  {
   "cell_type": "code",
   "execution_count": 93,
   "metadata": {},
   "outputs": [],
   "source": [
    "#function\n",
    "import openpyxl\n",
    "\n",
    "def get_match_result(column):\n",
    "    x = [cell.value for cell in column[1:]]\n",
    "    return x\n",
    "\n",
    "def reshape_ranking(sheet, winners, challengers, defenders):\n",
    "    for winner, defender, challenger in zip(winners, defenders, challengers):\n",
    "        if winner == challenger:\n",
    "            for row_number1, row_challenger in enumerate(sheet['B'], start = 2):\n",
    "                if row_challenger.value == challenger:\n",
    "                    sheet.delete_rows(row_number1 - 1)\n",
    "                    break\n",
    "            \n",
    "            for row_number2, row_defender in enumerate(sheet['B'], start = 2):\n",
    "                if row_defender.value == defender:\n",
    "                    sheet.insert_rows(row_number2 - 1)\n",
    "                    sheet.cell(row_number2 - 1, column = 2, value = challenger)\n",
    "                    break\n",
    "\n",
    "def allocate_rank_number(sheet):\n",
    "    i = 1\n",
    "    for cell in sheet['A'][1:]:\n",
    "        cell.value = i\n",
    "        i += 1\n",
    "\n",
    "def update_ranking(file_name):\n",
    "    wb = openpyxl.load_workbook(file_name)\n",
    "    sheet1 = wb['rank']\n",
    "    sheet2 = wb['matches']\n",
    "    \n",
    "    winners = get_match_result(sheet2['D'])\n",
    "    challengers = get_match_result(sheet2['C'])\n",
    "    defenders = get_match_result(sheet2['A'])\n",
    "    \n",
    "    reshape_ranking(sheet1, winners, challengers, defenders)\n",
    "    allocate_rank_number(sheet1)\n",
    "    \n",
    "    wb.save(file_name)"
   ]
  },
  {
   "cell_type": "code",
   "execution_count": 94,
   "metadata": {},
   "outputs": [],
   "source": [
    "#main\n",
    "file_name = 'ranking.xlsx'\n",
    "update_ranking(file_name)"
   ]
  }
 ],
 "metadata": {
  "kernelspec": {
   "display_name": "Python 3",
   "language": "python",
   "name": "python3"
  },
  "language_info": {
   "codemirror_mode": {
    "name": "ipython",
    "version": 3
   },
   "file_extension": ".py",
   "mimetype": "text/x-python",
   "name": "python",
   "nbconvert_exporter": "python",
   "pygments_lexer": "ipython3",
   "version": "3.12.0"
  }
 },
 "nbformat": 4,
 "nbformat_minor": 2
}
